{
 "cells": [
  {
   "cell_type": "markdown",
   "metadata": {},
   "source": [
    "In karaoke, lyrics are presented on screen in rough synchronization with the appropriate portion of the song. However, unless manually done, the lyric guide (pointer/highlight over the appropriate word to be sung at a time) is absent. I attempt to automate this process.\n",
    "\n",
    "The high level idea is to use a pre-trained network (RNN?) on speech transcription, then use a similar idea to an image heatmap in CNNs to find the portion of the audio input that contributed most to the chosen word. With these time markers, we now have a lyric guide.\n",
    "\n",
    "Background: speech-to-text networks, CNN heatmaps\n",
    "\n",
    "Formally, this is known as the \"forced alignment problem\""
   ]
  },
  {
   "source": [
    "## Apporach 1: Using GRAD-CAM on CNN's\n",
    "\n",
    "#### For this, I will use end-to-end CNN's for ASR and apply the GRAD-CAM method described by Selvaraju et. al (2016) in [this paper](https://arxiv.org/abs/1610.02391). These approaches will follow a Connecitonist Temporal Classification (CTC) model.\n",
    "\n",
    "### Approach 1a: I will implement [this paper](https://arxiv.org/pdf/1701.02720.pdf) by Zhang et. al (2017) for the CNN."
   ],
   "cell_type": "markdown",
   "metadata": {}
  },
  {
   "cell_type": "code",
   "execution_count": 43,
   "metadata": {},
   "outputs": [],
   "source": [
    "import torch\n",
    "import torch.nn as nn\n",
    "import torch.nn.functional as F\n",
    "import torchaudio\n",
    "import torchvision\n",
    "import numpy as np\n",
    "import matplotlib.pyplot as plt"
   ]
  },
  {
   "cell_type": "code",
   "execution_count": 3,
   "metadata": {},
   "outputs": [
    {
     "output_type": "execute_result",
     "data": {
      "text/plain": [
       "False"
      ]
     },
     "metadata": {},
     "execution_count": 3
    }
   ],
   "source": [
    "torch.cuda.is_available()"
   ]
  },
  {
   "source": [
    "\"\"\" Preprocessing\n",
    "\n",
    "Note: nn in torch expects everything as mini-batches, so single sample should be mini-batch of size 1\n",
    "\n",
    "1. Get input audio from dataset (TIMIT, LibraSpeech)\n",
    "2. Do appropriate transformations to get input features\n",
    "3. Split into Training, Validation, and Test (use DataLoader)\n",
    "\n",
    "\"\"\""
   ],
   "cell_type": "code",
   "metadata": {},
   "execution_count": 4,
   "outputs": [
    {
     "output_type": "execute_result",
     "data": {
      "text/plain": [
       "' Preprocessing\\n\\nNote: nn in torch expects everything as mini-batches, so single sample should be mini-batch of size 1\\n\\n1. Get input audio from dataset (TIMIT, LibraSpeech)\\n2. Split into Training, Validation, and Test (use DataLoader)\\n3. Do appropriate transformations to get input features\\n\\n'"
      ]
     },
     "metadata": {},
     "execution_count": 4
    }
   ]
  },
  {
   "cell_type": "code",
   "execution_count": 25,
   "metadata": {},
   "outputs": [
    {
     "output_type": "stream",
     "name": "stderr",
     "text": [
      "100.0%\n"
     ]
    }
   ],
   "source": [
    "def get_libri_speech_dataset(dataset_dir: str, dataset: str=\"train-clean-100\") -> torch.utils.data.Dataset:\n",
    "\n",
    "    \"\"\"\n",
    "    Function to download LibriSpeech dataset.\n",
    "\n",
    "    Inputs: \n",
    "    dataset_dir -- Path to directory where dataset should be located/downloaded\n",
    "    dataset -- Type of dataset desired. Options are \"train-clean-100\", \"train-clean-360\", \"train-clean-500\", \"dev-clean\", \"dev-other\", \"test-clean\", \"test-other\"\n",
    "    dataset\n",
    "\n",
    "    Output: torch.utils.data.Dataset of tuples with contents (waveform, sample_rate, utterance, speaker_id, chapter_id, utterance_id)\n",
    "    \"\"\"\n",
    "\n",
    "    # can use either key or url for \"url\" parameter of dataset download function\n",
    "    # libra_speech_urls = {\"train-clean-100\" : \"https://www.openslr.org/resources/12/train-clean-100.tar.gz\", \\\n",
    "    #                     \"train-clean-360\" : \"https://www.openslr.org/resources/12/train-clean-360.tar.gz\", \\\n",
    "    #                     \"train-clean-500\" : \"https://www.openslr.org/resources/12/train-other-500.tar.gz\", \\\n",
    "    #                     \"dev-clean\" : \"https://www.openslr.org/resources/12/dev-clean.tar.gz\", \\\n",
    "    #                     \"dev-other\" : \"https://www.openslr.org/resources/12/dev-other.tar.gz\", \\\n",
    "    #                     \"test-clean\" : \"https://www.openslr.org/resources/12/test-clean.tar.gz\", \\\n",
    "    #                     \"test-other\" : \"https://www.openslr.org/resources/12/test-other.tar.gz\"}\n",
    "\n",
    "    return torchaudio.datasets.LIBRISPEECH(dataset_dir, url=dataset, download=True)\n",
    "\n",
    "PATH_TO_DATASET_DIR = \"/mnt/d/Datasets/\"\n",
    "\n",
    "train_dataset = get_libri_speech_dataset(PATH_TO_DATASET_DIR)\n",
    "dev_dataset = get_libri_speech_dataset(PATH_TO_DATASET_DIR, \"dev-clean\")\n",
    "test_dataset = get_libri_speech_dataset(PATH_TO_DATASET_DIR, \"test-clean\")"
   ]
  },
  {
   "cell_type": "code",
   "execution_count": 114,
   "metadata": {},
   "outputs": [],
   "source": [
    "def features_from_waveform(waveform):\n",
    "\n",
    "    \"\"\"\n",
    "    Raw audio is transformed into 40-dimensional log mel-filter-bank (plus energy term) coefficients with deltas and delta-deltas, which reasults in 123 dimensional features. Each dimension is normalized to have zero mean and unit variance over the training set.\n",
    "\n",
    "    Basically this is just MFCC but without taking DCT at the end, but for the sake of cleanliness, I'll stick with MFCC for now. Also, I don't know what they mean by \"energy term\" (aren't the coefficients already energy terms?) so I'm omitting that.\n",
    "    \"\"\"\n",
    "\n",
    "    data = waveform.squeeze(dim=0)\n",
    "\n",
    "    # Grab desired features\n",
    "    # Takes in audio of dimension (..., time) returns specgram_mel of size (..., n_mfcc, time) where n_mfcc defaults to 40\n",
    "    mfcc_features = torchaudio.transforms.MFCC(log_mels=True)(data)\n",
    "    deltas = torchaudio.functional.compute_deltas(mfcc_features)\n",
    "    delta_deltas = torchaudio.functional.compute_deltas(deltas)\n",
    "\n",
    "    # Stack features together\n",
    "    input_features = torch.cat((mfcc_features, deltas, delta_deltas), 0)\n",
    "\n",
    "    # Normalize features along time dimension\n",
    "    # PyTorch built in Normalize transform does it to entire channels, we want along specific dimension of only channel\n",
    "\n",
    "    # A nicer way of normalizing by using unsqueeze, seems more legit than the transpose method\n",
    "    input_features_normalized = (input_features - input_features.mean(1).unsqueeze(1)) / input_features.std(1).unsqueeze(1)\n",
    "\n",
    "    # Old ways of experimenting with normalizing along dimensions. \n",
    "\n",
    "    # Transpose method: A super ugly way to normalize (0 mean, unit variance) along each x dimension, have to transpose everything\n",
    "    # input_features_normalized = ((input_features.T - input_features.T.mean(0)) / input_features.T.std(0)).T\n",
    "\n",
    "    # Numpy method: Using a useful function numpy has but torch does not. Creates small floating point differences, probably from conversion to torch tensor from numpy array.\n",
    "    # input_features_normalized = torch.from_numpy(np.apply_along_axis(lambda x : (x - np.mean(x)) / np.std(x), 1, input_features))\n",
    "\n",
    "    return input_features_normalized\n",
    "\n"
   ]
  },
  {
   "cell_type": "code",
   "execution_count": 115,
   "metadata": {},
   "outputs": [],
   "source": [
    "test_input = features_from_waveform(train_dataset[1][0])"
   ]
  },
  {
   "cell_type": "code",
   "execution_count": 116,
   "metadata": {},
   "outputs": [
    {
     "output_type": "execute_result",
     "data": {
      "text/plain": [
       "<matplotlib.image.AxesImage at 0x7fa4283c6050>"
      ]
     },
     "metadata": {},
     "execution_count": 116
    },
    {
     "output_type": "display_data",
     "data": {
      "text/plain": "<Figure size 432x288 with 1 Axes>",
      "image/svg+xml": "<?xml version=\"1.0\" encoding=\"utf-8\" standalone=\"no\"?>\n<!DOCTYPE svg PUBLIC \"-//W3C//DTD SVG 1.1//EN\"\n  \"http://www.w3.org/Graphics/SVG/1.1/DTD/svg11.dtd\">\n<!-- Created with matplotlib (https://matplotlib.org/) -->\n<svg height=\"66.380178pt\" version=\"1.1\" viewBox=\"0 0 375.2875 66.380178\" width=\"375.2875pt\" xmlns=\"http://www.w3.org/2000/svg\" xmlns:xlink=\"http://www.w3.org/1999/xlink\">\n <metadata>\n  <rdf:RDF xmlns:cc=\"http://creativecommons.org/ns#\" xmlns:dc=\"http://purl.org/dc/elements/1.1/\" xmlns:rdf=\"http://www.w3.org/1999/02/22-rdf-syntax-ns#\">\n   <cc:Work>\n    <dc:type rdf:resource=\"http://purl.org/dc/dcmitype/StillImage\"/>\n    <dc:date>2021-02-23T23:16:43.630007</dc:date>\n    <dc:format>image/svg+xml</dc:format>\n    <dc:creator>\n     <cc:Agent>\n      <dc:title>Matplotlib v3.3.3, https://matplotlib.org/</dc:title>\n     </cc:Agent>\n    </dc:creator>\n   </cc:Work>\n  </rdf:RDF>\n </metadata>\n <defs>\n  <style type=\"text/css\">*{stroke-linecap:butt;stroke-linejoin:round;}</style>\n </defs>\n <g id=\"figure_1\">\n  <g id=\"patch_1\">\n   <path d=\"M 0 66.380178 \nL 375.2875 66.380178 \nL 375.2875 0 \nL 0 0 \nz\n\" style=\"fill:none;\"/>\n  </g>\n  <g id=\"axes_1\">\n   <g id=\"patch_2\">\n    <path d=\"M 33.2875 42.502053 \nL 368.0875 42.502053 \nL 368.0875 10.867408 \nL 33.2875 10.867408 \nz\n\" style=\"fill:#ffffff;\"/>\n   </g>\n   <g clip-path=\"url(#pa6f7b041e4)\">\n    <image height=\"32\" id=\"imageedf5ea6a50\" transform=\"scale(1 -1)translate(0 -32)\" width=\"335\" x=\"33.2875\" xlink:href=\"data:image/png;base64,\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\" y=\"-10.502053\"/>\n   </g>\n   <g id=\"matplotlib.axis_1\">\n    <g id=\"xtick_1\">\n     <g id=\"line2d_1\">\n      <defs>\n       <path d=\"M 0 0 \nL 0 3.5 \n\" id=\"m3248d30285\" style=\"stroke:#000000;stroke-width:0.8;\"/>\n      </defs>\n      <g>\n       <use style=\"stroke:#000000;stroke-width:0.8;\" x=\"33.419311\" xlink:href=\"#m3248d30285\" y=\"42.502053\"/>\n      </g>\n     </g>\n     <g id=\"text_1\">\n      <!-- 0 -->\n      <g transform=\"translate(30.238061 57.100491)scale(0.1 -0.1)\">\n       <defs>\n        <path d=\"M 31.78125 66.40625 \nQ 24.171875 66.40625 20.328125 58.90625 \nQ 16.5 51.421875 16.5 36.375 \nQ 16.5 21.390625 20.328125 13.890625 \nQ 24.171875 6.390625 31.78125 6.390625 \nQ 39.453125 6.390625 43.28125 13.890625 \nQ 47.125 21.390625 47.125 36.375 \nQ 47.125 51.421875 43.28125 58.90625 \nQ 39.453125 66.40625 31.78125 66.40625 \nz\nM 31.78125 74.21875 \nQ 44.046875 74.21875 50.515625 64.515625 \nQ 56.984375 54.828125 56.984375 36.375 \nQ 56.984375 17.96875 50.515625 8.265625 \nQ 44.046875 -1.421875 31.78125 -1.421875 \nQ 19.53125 -1.421875 13.0625 8.265625 \nQ 6.59375 17.96875 6.59375 36.375 \nQ 6.59375 54.828125 13.0625 64.515625 \nQ 19.53125 74.21875 31.78125 74.21875 \nz\n\" id=\"DejaVuSans-48\"/>\n       </defs>\n       <use xlink:href=\"#DejaVuSans-48\"/>\n      </g>\n     </g>\n    </g>\n    <g id=\"xtick_2\">\n     <g id=\"line2d_2\">\n      <g>\n       <use style=\"stroke:#000000;stroke-width:0.8;\" x=\"86.14372\" xlink:href=\"#m3248d30285\" y=\"42.502053\"/>\n      </g>\n     </g>\n     <g id=\"text_2\">\n      <!-- 200 -->\n      <g transform=\"translate(76.59997 57.100491)scale(0.1 -0.1)\">\n       <defs>\n        <path d=\"M 19.1875 8.296875 \nL 53.609375 8.296875 \nL 53.609375 0 \nL 7.328125 0 \nL 7.328125 8.296875 \nQ 12.9375 14.109375 22.625 23.890625 \nQ 32.328125 33.6875 34.8125 36.53125 \nQ 39.546875 41.84375 41.421875 45.53125 \nQ 43.3125 49.21875 43.3125 52.78125 \nQ 43.3125 58.59375 39.234375 62.25 \nQ 35.15625 65.921875 28.609375 65.921875 \nQ 23.96875 65.921875 18.8125 64.3125 \nQ 13.671875 62.703125 7.8125 59.421875 \nL 7.8125 69.390625 \nQ 13.765625 71.78125 18.9375 73 \nQ 24.125 74.21875 28.421875 74.21875 \nQ 39.75 74.21875 46.484375 68.546875 \nQ 53.21875 62.890625 53.21875 53.421875 \nQ 53.21875 48.921875 51.53125 44.890625 \nQ 49.859375 40.875 45.40625 35.40625 \nQ 44.1875 33.984375 37.640625 27.21875 \nQ 31.109375 20.453125 19.1875 8.296875 \nz\n\" id=\"DejaVuSans-50\"/>\n       </defs>\n       <use xlink:href=\"#DejaVuSans-50\"/>\n       <use x=\"63.623047\" xlink:href=\"#DejaVuSans-48\"/>\n       <use x=\"127.246094\" xlink:href=\"#DejaVuSans-48\"/>\n      </g>\n     </g>\n    </g>\n    <g id=\"xtick_3\">\n     <g id=\"line2d_3\">\n      <g>\n       <use style=\"stroke:#000000;stroke-width:0.8;\" x=\"138.86813\" xlink:href=\"#m3248d30285\" y=\"42.502053\"/>\n      </g>\n     </g>\n     <g id=\"text_3\">\n      <!-- 400 -->\n      <g transform=\"translate(129.32438 57.100491)scale(0.1 -0.1)\">\n       <defs>\n        <path d=\"M 37.796875 64.3125 \nL 12.890625 25.390625 \nL 37.796875 25.390625 \nz\nM 35.203125 72.90625 \nL 47.609375 72.90625 \nL 47.609375 25.390625 \nL 58.015625 25.390625 \nL 58.015625 17.1875 \nL 47.609375 17.1875 \nL 47.609375 0 \nL 37.796875 0 \nL 37.796875 17.1875 \nL 4.890625 17.1875 \nL 4.890625 26.703125 \nz\n\" id=\"DejaVuSans-52\"/>\n       </defs>\n       <use xlink:href=\"#DejaVuSans-52\"/>\n       <use x=\"63.623047\" xlink:href=\"#DejaVuSans-48\"/>\n       <use x=\"127.246094\" xlink:href=\"#DejaVuSans-48\"/>\n      </g>\n     </g>\n    </g>\n    <g id=\"xtick_4\">\n     <g id=\"line2d_4\">\n      <g>\n       <use style=\"stroke:#000000;stroke-width:0.8;\" x=\"191.592539\" xlink:href=\"#m3248d30285\" y=\"42.502053\"/>\n      </g>\n     </g>\n     <g id=\"text_4\">\n      <!-- 600 -->\n      <g transform=\"translate(182.048789 57.100491)scale(0.1 -0.1)\">\n       <defs>\n        <path d=\"M 33.015625 40.375 \nQ 26.375 40.375 22.484375 35.828125 \nQ 18.609375 31.296875 18.609375 23.390625 \nQ 18.609375 15.53125 22.484375 10.953125 \nQ 26.375 6.390625 33.015625 6.390625 \nQ 39.65625 6.390625 43.53125 10.953125 \nQ 47.40625 15.53125 47.40625 23.390625 \nQ 47.40625 31.296875 43.53125 35.828125 \nQ 39.65625 40.375 33.015625 40.375 \nz\nM 52.59375 71.296875 \nL 52.59375 62.3125 \nQ 48.875 64.0625 45.09375 64.984375 \nQ 41.3125 65.921875 37.59375 65.921875 \nQ 27.828125 65.921875 22.671875 59.328125 \nQ 17.53125 52.734375 16.796875 39.40625 \nQ 19.671875 43.65625 24.015625 45.921875 \nQ 28.375 48.1875 33.59375 48.1875 \nQ 44.578125 48.1875 50.953125 41.515625 \nQ 57.328125 34.859375 57.328125 23.390625 \nQ 57.328125 12.15625 50.6875 5.359375 \nQ 44.046875 -1.421875 33.015625 -1.421875 \nQ 20.359375 -1.421875 13.671875 8.265625 \nQ 6.984375 17.96875 6.984375 36.375 \nQ 6.984375 53.65625 15.1875 63.9375 \nQ 23.390625 74.21875 37.203125 74.21875 \nQ 40.921875 74.21875 44.703125 73.484375 \nQ 48.484375 72.75 52.59375 71.296875 \nz\n\" id=\"DejaVuSans-54\"/>\n       </defs>\n       <use xlink:href=\"#DejaVuSans-54\"/>\n       <use x=\"63.623047\" xlink:href=\"#DejaVuSans-48\"/>\n       <use x=\"127.246094\" xlink:href=\"#DejaVuSans-48\"/>\n      </g>\n     </g>\n    </g>\n    <g id=\"xtick_5\">\n     <g id=\"line2d_5\">\n      <g>\n       <use style=\"stroke:#000000;stroke-width:0.8;\" x=\"244.316949\" xlink:href=\"#m3248d30285\" y=\"42.502053\"/>\n      </g>\n     </g>\n     <g id=\"text_5\">\n      <!-- 800 -->\n      <g transform=\"translate(234.773199 57.100491)scale(0.1 -0.1)\">\n       <defs>\n        <path d=\"M 31.78125 34.625 \nQ 24.75 34.625 20.71875 30.859375 \nQ 16.703125 27.09375 16.703125 20.515625 \nQ 16.703125 13.921875 20.71875 10.15625 \nQ 24.75 6.390625 31.78125 6.390625 \nQ 38.8125 6.390625 42.859375 10.171875 \nQ 46.921875 13.96875 46.921875 20.515625 \nQ 46.921875 27.09375 42.890625 30.859375 \nQ 38.875 34.625 31.78125 34.625 \nz\nM 21.921875 38.8125 \nQ 15.578125 40.375 12.03125 44.71875 \nQ 8.5 49.078125 8.5 55.328125 \nQ 8.5 64.0625 14.71875 69.140625 \nQ 20.953125 74.21875 31.78125 74.21875 \nQ 42.671875 74.21875 48.875 69.140625 \nQ 55.078125 64.0625 55.078125 55.328125 \nQ 55.078125 49.078125 51.53125 44.71875 \nQ 48 40.375 41.703125 38.8125 \nQ 48.828125 37.15625 52.796875 32.3125 \nQ 56.78125 27.484375 56.78125 20.515625 \nQ 56.78125 9.90625 50.3125 4.234375 \nQ 43.84375 -1.421875 31.78125 -1.421875 \nQ 19.734375 -1.421875 13.25 4.234375 \nQ 6.78125 9.90625 6.78125 20.515625 \nQ 6.78125 27.484375 10.78125 32.3125 \nQ 14.796875 37.15625 21.921875 38.8125 \nz\nM 18.3125 54.390625 \nQ 18.3125 48.734375 21.84375 45.5625 \nQ 25.390625 42.390625 31.78125 42.390625 \nQ 38.140625 42.390625 41.71875 45.5625 \nQ 45.3125 48.734375 45.3125 54.390625 \nQ 45.3125 60.0625 41.71875 63.234375 \nQ 38.140625 66.40625 31.78125 66.40625 \nQ 25.390625 66.40625 21.84375 63.234375 \nQ 18.3125 60.0625 18.3125 54.390625 \nz\n\" id=\"DejaVuSans-56\"/>\n       </defs>\n       <use xlink:href=\"#DejaVuSans-56\"/>\n       <use x=\"63.623047\" xlink:href=\"#DejaVuSans-48\"/>\n       <use x=\"127.246094\" xlink:href=\"#DejaVuSans-48\"/>\n      </g>\n     </g>\n    </g>\n    <g id=\"xtick_6\">\n     <g id=\"line2d_6\">\n      <g>\n       <use style=\"stroke:#000000;stroke-width:0.8;\" x=\"297.041358\" xlink:href=\"#m3248d30285\" y=\"42.502053\"/>\n      </g>\n     </g>\n     <g id=\"text_6\">\n      <!-- 1000 -->\n      <g transform=\"translate(284.316358 57.100491)scale(0.1 -0.1)\">\n       <defs>\n        <path d=\"M 12.40625 8.296875 \nL 28.515625 8.296875 \nL 28.515625 63.921875 \nL 10.984375 60.40625 \nL 10.984375 69.390625 \nL 28.421875 72.90625 \nL 38.28125 72.90625 \nL 38.28125 8.296875 \nL 54.390625 8.296875 \nL 54.390625 0 \nL 12.40625 0 \nz\n\" id=\"DejaVuSans-49\"/>\n       </defs>\n       <use xlink:href=\"#DejaVuSans-49\"/>\n       <use x=\"63.623047\" xlink:href=\"#DejaVuSans-48\"/>\n       <use x=\"127.246094\" xlink:href=\"#DejaVuSans-48\"/>\n       <use x=\"190.869141\" xlink:href=\"#DejaVuSans-48\"/>\n      </g>\n     </g>\n    </g>\n    <g id=\"xtick_7\">\n     <g id=\"line2d_7\">\n      <g>\n       <use style=\"stroke:#000000;stroke-width:0.8;\" x=\"349.765768\" xlink:href=\"#m3248d30285\" y=\"42.502053\"/>\n      </g>\n     </g>\n     <g id=\"text_7\">\n      <!-- 1200 -->\n      <g transform=\"translate(337.040768 57.100491)scale(0.1 -0.1)\">\n       <use xlink:href=\"#DejaVuSans-49\"/>\n       <use x=\"63.623047\" xlink:href=\"#DejaVuSans-50\"/>\n       <use x=\"127.246094\" xlink:href=\"#DejaVuSans-48\"/>\n       <use x=\"190.869141\" xlink:href=\"#DejaVuSans-48\"/>\n      </g>\n     </g>\n    </g>\n   </g>\n   <g id=\"matplotlib.axis_2\">\n    <g id=\"ytick_1\">\n     <g id=\"line2d_8\">\n      <defs>\n       <path d=\"M 0 0 \nL -3.5 0 \n\" id=\"mdea62ad514\" style=\"stroke:#000000;stroke-width:0.8;\"/>\n      </defs>\n      <g>\n       <use style=\"stroke:#000000;stroke-width:0.8;\" x=\"33.2875\" xlink:href=\"#mdea62ad514\" y=\"10.999219\"/>\n      </g>\n     </g>\n     <g id=\"text_8\">\n      <!-- 0 -->\n      <g transform=\"translate(19.925 14.798437)scale(0.1 -0.1)\">\n       <use xlink:href=\"#DejaVuSans-48\"/>\n      </g>\n     </g>\n    </g>\n    <g id=\"ytick_2\">\n     <g id=\"line2d_9\">\n      <g>\n       <use style=\"stroke:#000000;stroke-width:0.8;\" x=\"33.2875\" xlink:href=\"#mdea62ad514\" y=\"37.361423\"/>\n      </g>\n     </g>\n     <g id=\"text_9\">\n      <!-- 100 -->\n      <g transform=\"translate(7.2 41.160642)scale(0.1 -0.1)\">\n       <use xlink:href=\"#DejaVuSans-49\"/>\n       <use x=\"63.623047\" xlink:href=\"#DejaVuSans-48\"/>\n       <use x=\"127.246094\" xlink:href=\"#DejaVuSans-48\"/>\n      </g>\n     </g>\n    </g>\n   </g>\n   <g id=\"patch_3\">\n    <path d=\"M 33.2875 42.502053 \nL 33.2875 10.867408 \n\" style=\"fill:none;stroke:#000000;stroke-linecap:square;stroke-linejoin:miter;stroke-width:0.8;\"/>\n   </g>\n   <g id=\"patch_4\">\n    <path d=\"M 368.0875 42.502053 \nL 368.0875 10.867408 \n\" style=\"fill:none;stroke:#000000;stroke-linecap:square;stroke-linejoin:miter;stroke-width:0.8;\"/>\n   </g>\n   <g id=\"patch_5\">\n    <path d=\"M 33.2875 42.502053 \nL 368.0875 42.502053 \n\" style=\"fill:none;stroke:#000000;stroke-linecap:square;stroke-linejoin:miter;stroke-width:0.8;\"/>\n   </g>\n   <g id=\"patch_6\">\n    <path d=\"M 33.2875 10.867408 \nL 368.0875 10.867408 \n\" style=\"fill:none;stroke:#000000;stroke-linecap:square;stroke-linejoin:miter;stroke-width:0.8;\"/>\n   </g>\n  </g>\n </g>\n <defs>\n  <clipPath id=\"pa6f7b041e4\">\n   <rect height=\"31.634646\" width=\"334.8\" x=\"33.2875\" y=\"10.867408\"/>\n  </clipPath>\n </defs>\n</svg>\n",
      "image/png": "[encoded data removed]"
     },
     "metadata": {
      "needs_background": "light"
     }
    }
   ],
   "source": [
    "plt.imshow(test_input)"
   ]
  },
  {
   "cell_type": "code",
   "execution_count": null,
   "metadata": {},
   "outputs": [],
   "source": []
  },
  {
   "cell_type": "code",
   "execution_count": 14,
   "metadata": {},
   "outputs": [],
   "source": [
    "def maxout():\n",
    "    pass\n",
    "\n",
    "class Conv_Maxout_Layer(nn.Module):\n",
    "\n",
    "    def __init__(self, in_channels, out_channels, filter_dim=(3,5), pool=False, pool_dim=(3,1), dropout=0.3):\n",
    "        super(Conv_Maxout_Layer, self).__init__()\n",
    "\n",
    "        self.conv = nn.Conv2d(in_channels=in_channels, out_channels=out_channels, kernel_size=filter_dim)\n",
    "        self.dropout = nn.Dropout(p=dropout)\n",
    "\n",
    "    def forward(self, x):\n",
    "        x = self.conv(x)\n",
    "        # TODO: implement maxout activation\n",
    "        if pool:\n",
    "            x = nn.MaxPool2d(kernel_size=pool_dim)(x)\n",
    "        x = self.dropout(x)\n",
    "        return x\n",
    "\n",
    "class FC_Layer(nn.Module):\n",
    "\n",
    "    def __init__(self, in_dim, out_dim, dropout=0.3):\n",
    "        super(FC_Layer, self).__init__()\n",
    "\n",
    "        self.fc = nn.Linear(in_dim, out_dim)\n",
    "        self.dropout = nn.Dropout(p=dropout)\n",
    "\n",
    "        def forward(self, x):\n",
    "            x = self.fc(x)\n",
    "            # maxout\n",
    "            x = self.dropout(x)\n",
    "            return x\n",
    "\n",
    "class ASR_1(nn.Module):\n",
    "\n",
    "        \"\"\"\n",
    "        Unlike the other layers, the first convolutional layer is followed by a pooling layer, which is described in section 2. The pooling size is 3 × 1, which mean swe only pool over the frequency axis. The filter size is 3 × 5 across the layers. The model has 128 feature maps in the first four convolutional layers and 256 feature maps in the remaining six convolutional layers. Each fully-connected layer has 1024 units. Maxout with 2 piece-wise linear functions is used as the activation function.\n",
    "        \"\"\" \n",
    "\n",
    "        def __init__(self, in_dim, out_dim):\n",
    "            super(ASR_1, self).__init__()\n",
    "            # in_dim should be 40-dimensional from log MFCC + extra from deltas and delta-deltas = 123 total\n",
    "            # should just be equal to dimensions of input features\n",
    "            self.in_dim = in_dim \n",
    "            self.cnn_layers = nn.Sequential(\n",
    "                            Conv_Maxout_Layer(self.in_dim, 128, pool=True, dropout=0),\n",
    "                            Conv_Maxout_Layer(128, 128),\n",
    "                            Conv_Maxout_Layer(128, 128),\n",
    "                            Conv_Maxout_Layer(128, 128),\n",
    "                            Conv_Maxout_Layer(128, 256),\n",
    "                            Conv_Maxout_Layer(256, 256),\n",
    "                            Conv_Maxout_Layer(256, 256),\n",
    "                            Conv_Maxout_Layer(256, 256),\n",
    "                            Conv_Maxout_Layer(256, 256),\n",
    "                            Conv_Maxout_Layer(256, 256),\n",
    "            )\n",
    "\n",
    "            self.fc_layers = nn.Sequential(\n",
    "                            FC_Layer(1, 1024),\n",
    "                            FC_Layer(1024, 1024),\n",
    "                            FC_Layer(1024, 1024),\n",
    "                            FC_Layer(1024, out_dim, dropout=0)\n",
    "            )\n",
    "\n",
    "            # self.conv1 = nn.Conv2d(self.in_dim, 128, (3, 5))\n",
    "            # self.pool = nn.MaxPool2d((3, 1))\n",
    "            # self.conv2 = nn.Conv2d(128, 128, (3, 5))\n",
    "            # self.conv3 = nn.Conv2d(128, 128, (3, 5))\n",
    "            # self.conv4 = nn.Conv2d(128, 128, (3, 5))\n",
    "            # self.conv5 = nn.Conv2d(128, 256, (3, 5))\n",
    "            # self.conv6 = nn.Conv2d(256, 256, (3, 5))\n",
    "            # self.conv7 = nn.Conv2d(256, 256, (3, 5))\n",
    "            # self.conv8 = nn.Conv2d(256, 256, (3, 5))\n",
    "            # self.conv9 = nn.Conv2d(256, 256, (3, 5))\n",
    "            # self.conv10 = nn.Conv2d(256, 256, (3, 5))\n",
    "            # first arg of fc1 should be w * h of input features * 256\n",
    "            # self.fc1 = nn.Linear(1, 1024)\n",
    "            # self.fc2 = nn.Linear(1024, 1024)\n",
    "            # need to add last layer for character classes (+ blank for CTC?)\n",
    "\n",
    "\n",
    "        def forward(self, x):\n",
    "            x = self.cnn_layers(x)\n",
    "            # transfomration from cnn dimensions to fc dimensions\n",
    "            x = self.fc_layers(x)\n",
    "            return x\n"
   ]
  },
  {
   "cell_type": "code",
   "execution_count": 15,
   "metadata": {},
   "outputs": [
    {
     "output_type": "error",
     "ename": "TypeError",
     "evalue": "__init__() missing 2 required positional arguments: 'in_dim' and 'out_dim'",
     "traceback": [
      "\u001b[0;31m---------------------------------------------------------------------------\u001b[0m",
      "\u001b[0;31mTypeError\u001b[0m                                 Traceback (most recent call last)",
      "\u001b[0;32m<ipython-input-15-00aa5f00d97e>\u001b[0m in \u001b[0;36m<module>\u001b[0;34m\u001b[0m\n\u001b[0;32m----> 1\u001b[0;31m \u001b[0mnet\u001b[0m \u001b[0;34m=\u001b[0m \u001b[0mASR_1\u001b[0m\u001b[0;34m(\u001b[0m\u001b[0;34m)\u001b[0m\u001b[0;34m\u001b[0m\u001b[0;34m\u001b[0m\u001b[0m\n\u001b[0m\u001b[1;32m      2\u001b[0m \u001b[0mnet\u001b[0m\u001b[0;34m\u001b[0m\u001b[0;34m\u001b[0m\u001b[0m\n",
      "\u001b[0;31mTypeError\u001b[0m: __init__() missing 2 required positional arguments: 'in_dim' and 'out_dim'"
     ]
    }
   ],
   "source": [
    "net = ASR_1()\n",
    "net"
   ]
  },
  {
   "cell_type": "code",
   "execution_count": 12,
   "metadata": {},
   "outputs": [
    {
     "output_type": "execute_result",
     "data": {
      "text/plain": [
       "24"
      ]
     },
     "metadata": {},
     "execution_count": 12
    }
   ],
   "source": [
    "params = list(net.parameters())\n",
    "len(params)"
   ]
  },
  {
   "cell_type": "code",
   "execution_count": 13,
   "metadata": {},
   "outputs": [],
   "source": [
    "# ADAM loss w/ lr=10e-4, batch size 20, initial weights initialized uniformly from [-0.05, 0.05], dropout w/ p=0.3 used in all layers except in and out\n",
    "# for fine tuning: SGD w/ lr 10e-5, l2 penalty w/ coeff=1e-5\n",
    "\n",
    "loss = nn.CTCLoss()(ouput, labels, input_lengths, label_lengths)"
   ]
  },
  {
   "cell_type": "code",
   "execution_count": null,
   "metadata": {},
   "outputs": [],
   "source": []
  }
 ],
 "metadata": {
  "kernelspec": {
   "name": "python3",
   "display_name": "Python 3.7.9 64-bit ('lyricism': conda)",
   "metadata": {
    "interpreter": {
     "hash": "4a7f85a872575b073bd90bf4615f69cb1d91d2877fa6e85aaf45a76ec5c896f5"
    }
   }
  },
  "language_info": {
   "codemirror_mode": {
    "name": "ipython",
    "version": 3
   },
   "file_extension": ".py",
   "mimetype": "text/x-python",
   "name": "python",
   "nbconvert_exporter": "python",
   "pygments_lexer": "ipython3",
   "version": "3.7.9"
  }
 },
 "nbformat": 4,
 "nbformat_minor": 4
}